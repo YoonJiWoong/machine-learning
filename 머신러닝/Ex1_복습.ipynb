{
 "cells": [
  {
   "cell_type": "code",
   "execution_count": 3,
   "id": "3691525a",
   "metadata": {},
   "outputs": [],
   "source": [
    "import pandas as pd\n",
    "bmi_data = pd.read_csv(\"data/bmi_lbs.csv\") #csv파일 로딩\n",
    "from sklearn.neighbors import KNeighborsClassifier # KNN 클래스 import"
   ]
  },
  {
   "cell_type": "markdown",
   "id": "b2eae291",
   "metadata": {},
   "source": [
    "### 1.모델정의"
   ]
  },
  {
   "cell_type": "code",
   "execution_count": 2,
   "id": "96bc264d",
   "metadata": {},
   "outputs": [],
   "source": [
    "# KNN 알고리즘을 사용하는 모델 사용\n",
    "bmi_model = KNeighborsClassifier() # 객체를 생성하는 생성자 호출! () 써서"
   ]
  },
  {
   "cell_type": "code",
   "execution_count": 5,
   "id": "ec9d126e",
   "metadata": {},
   "outputs": [
    {
     "data": {
      "text/html": [
       "<div>\n",
       "<style scoped>\n",
       "    .dataframe tbody tr th:only-of-type {\n",
       "        vertical-align: middle;\n",
       "    }\n",
       "\n",
       "    .dataframe tbody tr th {\n",
       "        vertical-align: top;\n",
       "    }\n",
       "\n",
       "    .dataframe thead th {\n",
       "        text-align: right;\n",
       "    }\n",
       "</style>\n",
       "<table border=\"1\" class=\"dataframe\">\n",
       "  <thead>\n",
       "    <tr style=\"text-align: right;\">\n",
       "      <th></th>\n",
       "      <th>Label</th>\n",
       "      <th>Gender</th>\n",
       "      <th>Height</th>\n",
       "      <th>Weight(lbs)</th>\n",
       "    </tr>\n",
       "  </thead>\n",
       "  <tbody>\n",
       "    <tr>\n",
       "      <th>0</th>\n",
       "      <td>Obesity</td>\n",
       "      <td>Male</td>\n",
       "      <td>174</td>\n",
       "      <td>211.6416</td>\n",
       "    </tr>\n",
       "    <tr>\n",
       "      <th>1</th>\n",
       "      <td>Normal</td>\n",
       "      <td>Male</td>\n",
       "      <td>189</td>\n",
       "      <td>191.8002</td>\n",
       "    </tr>\n",
       "    <tr>\n",
       "      <th>2</th>\n",
       "      <td>Obesity</td>\n",
       "      <td>Female</td>\n",
       "      <td>185</td>\n",
       "      <td>242.5060</td>\n",
       "    </tr>\n",
       "    <tr>\n",
       "      <th>3</th>\n",
       "      <td>Overweight</td>\n",
       "      <td>Female</td>\n",
       "      <td>195</td>\n",
       "      <td>229.2784</td>\n",
       "    </tr>\n",
       "    <tr>\n",
       "      <th>4</th>\n",
       "      <td>Overweight</td>\n",
       "      <td>Male</td>\n",
       "      <td>149</td>\n",
       "      <td>134.4806</td>\n",
       "    </tr>\n",
       "  </tbody>\n",
       "</table>\n",
       "</div>"
      ],
      "text/plain": [
       "        Label  Gender  Height  Weight(lbs)\n",
       "0     Obesity    Male     174     211.6416\n",
       "1      Normal    Male     189     191.8002\n",
       "2     Obesity  Female     185     242.5060\n",
       "3  Overweight  Female     195     229.2784\n",
       "4  Overweight    Male     149     134.4806"
      ]
     },
     "execution_count": 5,
     "metadata": {},
     "output_type": "execute_result"
    }
   ],
   "source": [
    "bmi_data.head() # 상위 5개 데이터 확인"
   ]
  },
  {
   "cell_type": "code",
   "execution_count": 6,
   "id": "733c11c8",
   "metadata": {},
   "outputs": [
    {
     "data": {
      "text/plain": [
       "Extreme Obesity    198\n",
       "Obesity            130\n",
       "Normal              69\n",
       "Overweight          68\n",
       "Weak                22\n",
       "Extremely Weak      13\n",
       "Name: Label, dtype: int64"
      ]
     },
     "execution_count": 6,
     "metadata": {},
     "output_type": "execute_result"
    }
   ],
   "source": [
    "bmi_data[\"Label\"].value_counts()  #1차원 시리즈"
   ]
  },
  {
   "cell_type": "code",
   "execution_count": 8,
   "id": "1333b871",
   "metadata": {},
   "outputs": [
    {
     "data": {
      "text/html": [
       "<div>\n",
       "<style scoped>\n",
       "    .dataframe tbody tr th:only-of-type {\n",
       "        vertical-align: middle;\n",
       "    }\n",
       "\n",
       "    .dataframe tbody tr th {\n",
       "        vertical-align: top;\n",
       "    }\n",
       "\n",
       "    .dataframe thead th {\n",
       "        text-align: right;\n",
       "    }\n",
       "</style>\n",
       "<table border=\"1\" class=\"dataframe\">\n",
       "  <thead>\n",
       "    <tr style=\"text-align: right;\">\n",
       "      <th></th>\n",
       "      <th>Label</th>\n",
       "      <th>Gender</th>\n",
       "      <th>Height</th>\n",
       "      <th>Weight(lbs)</th>\n",
       "      <th>Weight(kg)</th>\n",
       "    </tr>\n",
       "  </thead>\n",
       "  <tbody>\n",
       "    <tr>\n",
       "      <th>0</th>\n",
       "      <td>Obesity</td>\n",
       "      <td>Male</td>\n",
       "      <td>174</td>\n",
       "      <td>211.6416</td>\n",
       "      <td>95.998937</td>\n",
       "    </tr>\n",
       "    <tr>\n",
       "      <th>1</th>\n",
       "      <td>Normal</td>\n",
       "      <td>Male</td>\n",
       "      <td>189</td>\n",
       "      <td>191.8002</td>\n",
       "      <td>86.999036</td>\n",
       "    </tr>\n",
       "    <tr>\n",
       "      <th>2</th>\n",
       "      <td>Obesity</td>\n",
       "      <td>Female</td>\n",
       "      <td>185</td>\n",
       "      <td>242.5060</td>\n",
       "      <td>109.998782</td>\n",
       "    </tr>\n",
       "    <tr>\n",
       "      <th>3</th>\n",
       "      <td>Overweight</td>\n",
       "      <td>Female</td>\n",
       "      <td>195</td>\n",
       "      <td>229.2784</td>\n",
       "      <td>103.998848</td>\n",
       "    </tr>\n",
       "    <tr>\n",
       "      <th>4</th>\n",
       "      <td>Overweight</td>\n",
       "      <td>Male</td>\n",
       "      <td>149</td>\n",
       "      <td>134.4806</td>\n",
       "      <td>60.999324</td>\n",
       "    </tr>\n",
       "  </tbody>\n",
       "</table>\n",
       "</div>"
      ],
      "text/plain": [
       "        Label  Gender  Height  Weight(lbs)  Weight(kg)\n",
       "0     Obesity    Male     174     211.6416   95.998937\n",
       "1      Normal    Male     189     191.8002   86.999036\n",
       "2     Obesity  Female     185     242.5060  109.998782\n",
       "3  Overweight  Female     195     229.2784  103.998848\n",
       "4  Overweight    Male     149     134.4806   60.999324"
      ]
     },
     "execution_count": 8,
     "metadata": {},
     "output_type": "execute_result"
    }
   ],
   "source": [
    "# 2. Weight(lbs)를 Weight(kg)로 변경해보자.\n",
    "bmi_data[\"Weight(kg)\"]=bmi_data[\"Weight(lbs)\"]*0.453592\n",
    "bmi_data.head()"
   ]
  },
  {
   "cell_type": "code",
   "execution_count": 9,
   "id": "04d1703f",
   "metadata": {},
   "outputs": [],
   "source": [
    "# 학습을 위해 문제와 답을 추출하자\n",
    "# 문제는 x 답은 y\n",
    "X = bmi_data[[\"Height\",\"Weight(kg)\"]]\n",
    "y = bmi_data[\"Label\"]"
   ]
  },
  {
   "cell_type": "code",
   "execution_count": 11,
   "id": "1d7a0834",
   "metadata": {},
   "outputs": [
    {
     "data": {
      "text/plain": [
       "0              Obesity\n",
       "1               Normal\n",
       "2              Obesity\n",
       "3           Overweight\n",
       "4           Overweight\n",
       "            ...       \n",
       "495    Extreme Obesity\n",
       "496            Obesity\n",
       "497    Extreme Obesity\n",
       "498    Extreme Obesity\n",
       "499    Extreme Obesity\n",
       "Name: Label, Length: 500, dtype: object"
      ]
     },
     "execution_count": 11,
     "metadata": {},
     "output_type": "execute_result"
    }
   ],
   "source": [
    "y"
   ]
  },
  {
   "cell_type": "code",
   "execution_count": 12,
   "id": "ec1cb01c",
   "metadata": {},
   "outputs": [
    {
     "data": {
      "text/plain": [
       "KNeighborsClassifier()"
      ]
     },
     "execution_count": 12,
     "metadata": {},
     "output_type": "execute_result"
    }
   ],
   "source": [
    "bmi_model.fit(X,y) # 학습"
   ]
  },
  {
   "cell_type": "code",
   "execution_count": 13,
   "id": "0314e161",
   "metadata": {},
   "outputs": [],
   "source": [
    "# 샘플데이터 추출\n",
    "x_sample=bmi_data.iloc[[5,63,301,256,470],[2,4]]\n",
    "y_sample=bmi_data.iloc[[5,63,301,256,470],0]"
   ]
  },
  {
   "cell_type": "code",
   "execution_count": 14,
   "id": "0558d6b5",
   "metadata": {},
   "outputs": [
    {
     "data": {
      "text/plain": [
       "array(['Overweight', 'Normal', 'Obesity', 'Obesity', 'Extreme Obesity'],\n",
       "      dtype=object)"
      ]
     },
     "execution_count": 14,
     "metadata": {},
     "output_type": "execute_result"
    }
   ],
   "source": [
    "bmi_predict = bmi_model.predict(x_sample) #5명의 샘플 데이터를 예측\n",
    "bmi_predict"
   ]
  },
  {
   "cell_type": "code",
   "execution_count": 15,
   "id": "dcf70c7e",
   "metadata": {},
   "outputs": [],
   "source": [
    "# 평가 합수 활용하기\n",
    "from sklearn.metrics import accuracy_score # 정확도(전체 예측 결과 중 정확히 맞춘 비율)"
   ]
  },
  {
   "cell_type": "code",
   "execution_count": 16,
   "id": "f30e8fe3",
   "metadata": {},
   "outputs": [
    {
     "data": {
      "text/plain": [
       "1.0"
      ]
     },
     "execution_count": 16,
     "metadata": {},
     "output_type": "execute_result"
    }
   ],
   "source": [
    "score = accuracy_score(y_sample, bmi_predict)\n",
    "score"
   ]
  },
  {
   "cell_type": "code",
   "execution_count": 17,
   "id": "874b1cbb",
   "metadata": {},
   "outputs": [
    {
     "data": {
      "text/plain": [
       "array(['Extreme Obesity', 'Extreme Obesity'], dtype=object)"
      ]
     },
     "execution_count": 17,
     "metadata": {},
     "output_type": "execute_result"
    }
   ],
   "source": [
    "# 활용\n",
    "bmi_model.predict([[56,156],[73,185]])"
   ]
  },
  {
   "cell_type": "code",
   "execution_count": 18,
   "id": "64d81d29",
   "metadata": {},
   "outputs": [],
   "source": [
    "from sklearn.model_selection import train_test_split # 훈련용,평가용 데이터 분리 함수\n",
    "# 별다를 설정 없은 75 : 25로 분리해주게 되어있어!"
   ]
  },
  {
   "cell_type": "code",
   "execution_count": 20,
   "id": "0865cc89",
   "metadata": {},
   "outputs": [
    {
     "data": {
      "text/html": [
       "<div>\n",
       "<style scoped>\n",
       "    .dataframe tbody tr th:only-of-type {\n",
       "        vertical-align: middle;\n",
       "    }\n",
       "\n",
       "    .dataframe tbody tr th {\n",
       "        vertical-align: top;\n",
       "    }\n",
       "\n",
       "    .dataframe thead th {\n",
       "        text-align: right;\n",
       "    }\n",
       "</style>\n",
       "<table border=\"1\" class=\"dataframe\">\n",
       "  <thead>\n",
       "    <tr style=\"text-align: right;\">\n",
       "      <th></th>\n",
       "      <th>Height</th>\n",
       "      <th>Weight(kg)</th>\n",
       "    </tr>\n",
       "  </thead>\n",
       "  <tbody>\n",
       "    <tr>\n",
       "      <th>59</th>\n",
       "      <td>143</td>\n",
       "      <td>87.999025</td>\n",
       "    </tr>\n",
       "    <tr>\n",
       "      <th>204</th>\n",
       "      <td>145</td>\n",
       "      <td>159.998228</td>\n",
       "    </tr>\n",
       "    <tr>\n",
       "      <th>151</th>\n",
       "      <td>140</td>\n",
       "      <td>51.999424</td>\n",
       "    </tr>\n",
       "    <tr>\n",
       "      <th>16</th>\n",
       "      <td>157</td>\n",
       "      <td>109.998782</td>\n",
       "    </tr>\n",
       "    <tr>\n",
       "      <th>98</th>\n",
       "      <td>195</td>\n",
       "      <td>68.999236</td>\n",
       "    </tr>\n",
       "  </tbody>\n",
       "</table>\n",
       "</div>"
      ],
      "text/plain": [
       "     Height  Weight(kg)\n",
       "59      143   87.999025\n",
       "204     145  159.998228\n",
       "151     140   51.999424\n",
       "16      157  109.998782\n",
       "98      195   68.999236"
      ]
     },
     "execution_count": 20,
     "metadata": {},
     "output_type": "execute_result"
    }
   ],
   "source": [
    "x_train,x_test,y_train,y_test = train_test_split(X,y,test_size=0.3, random_state=1130)\n",
    "x_train.head()"
   ]
  },
  {
   "cell_type": "code",
   "execution_count": 21,
   "id": "bd238997",
   "metadata": {},
   "outputs": [
    {
     "data": {
      "text/plain": [
       "((350, 2), (350,))"
      ]
     },
     "execution_count": 21,
     "metadata": {},
     "output_type": "execute_result"
    }
   ],
   "source": [
    "x_train.shape, y_train.shape"
   ]
  },
  {
   "cell_type": "code",
   "execution_count": 22,
   "id": "56b29221",
   "metadata": {},
   "outputs": [
    {
     "data": {
      "text/plain": [
       "((150, 2), (150,))"
      ]
     },
     "execution_count": 22,
     "metadata": {},
     "output_type": "execute_result"
    }
   ],
   "source": [
    "x_test.shape, y_test.shape"
   ]
  },
  {
   "cell_type": "code",
   "execution_count": null,
   "id": "7bdf2cab",
   "metadata": {},
   "outputs": [],
   "source": [
    "# 모델정의 > 모델학습 > 모델예측 > 모델평가"
   ]
  },
  {
   "cell_type": "code",
   "execution_count": 23,
   "id": "00893766",
   "metadata": {},
   "outputs": [],
   "source": [
    "bmi_model1 = KNeighborsClassifier()\n"
   ]
  },
  {
   "cell_type": "code",
   "execution_count": 24,
   "id": "0103cb3b",
   "metadata": {},
   "outputs": [],
   "source": [
    "x1 = bmi_data[[\"Height\",\"Weight(kg)\"]]\n",
    "y1 = bmi_data[\"Label\"]"
   ]
  },
  {
   "cell_type": "code",
   "execution_count": 29,
   "id": "dac95bc9",
   "metadata": {},
   "outputs": [
    {
     "data": {
      "text/html": [
       "<div>\n",
       "<style scoped>\n",
       "    .dataframe tbody tr th:only-of-type {\n",
       "        vertical-align: middle;\n",
       "    }\n",
       "\n",
       "    .dataframe tbody tr th {\n",
       "        vertical-align: top;\n",
       "    }\n",
       "\n",
       "    .dataframe thead th {\n",
       "        text-align: right;\n",
       "    }\n",
       "</style>\n",
       "<table border=\"1\" class=\"dataframe\">\n",
       "  <thead>\n",
       "    <tr style=\"text-align: right;\">\n",
       "      <th></th>\n",
       "      <th>Height</th>\n",
       "      <th>Weight(kg)</th>\n",
       "    </tr>\n",
       "  </thead>\n",
       "  <tbody>\n",
       "    <tr>\n",
       "      <th>258</th>\n",
       "      <td>169</td>\n",
       "      <td>144.998394</td>\n",
       "    </tr>\n",
       "    <tr>\n",
       "      <th>74</th>\n",
       "      <td>185</td>\n",
       "      <td>99.998892</td>\n",
       "    </tr>\n",
       "    <tr>\n",
       "      <th>2</th>\n",
       "      <td>185</td>\n",
       "      <td>109.998782</td>\n",
       "    </tr>\n",
       "    <tr>\n",
       "      <th>232</th>\n",
       "      <td>184</td>\n",
       "      <td>85.999047</td>\n",
       "    </tr>\n",
       "    <tr>\n",
       "      <th>375</th>\n",
       "      <td>150</td>\n",
       "      <td>143.998405</td>\n",
       "    </tr>\n",
       "  </tbody>\n",
       "</table>\n",
       "</div>"
      ],
      "text/plain": [
       "     Height  Weight(kg)\n",
       "258     169  144.998394\n",
       "74      185   99.998892\n",
       "2       185  109.998782\n",
       "232     184   85.999047\n",
       "375     150  143.998405"
      ]
     },
     "execution_count": 29,
     "metadata": {},
     "output_type": "execute_result"
    }
   ],
   "source": [
    "x1_train,x1_test,y1_train,y1_test = train_test_split(x1,y1,test_size=0.2, random_state=1130)\n",
    "x1_train.head()"
   ]
  },
  {
   "cell_type": "code",
   "execution_count": 30,
   "id": "9652ee2d",
   "metadata": {},
   "outputs": [
    {
     "data": {
      "text/plain": [
       "KNeighborsClassifier()"
      ]
     },
     "execution_count": 30,
     "metadata": {},
     "output_type": "execute_result"
    }
   ],
   "source": [
    "bmi_model1.fit(x1_train,y1_train) # 학습"
   ]
  },
  {
   "cell_type": "code",
   "execution_count": 31,
   "id": "cd6fa2b2",
   "metadata": {},
   "outputs": [
    {
     "data": {
      "text/plain": [
       "array(['Extreme Obesity', 'Extreme Obesity', 'Overweight', 'Overweight',\n",
       "       'Weak', 'Extreme Obesity', 'Extreme Obesity', 'Normal', 'Obesity',\n",
       "       'Extreme Obesity', 'Extreme Obesity', 'Extreme Obesity',\n",
       "       'Overweight', 'Obesity', 'Extremely Weak', 'Extreme Obesity',\n",
       "       'Obesity', 'Obesity', 'Normal', 'Extreme Obesity', 'Obesity',\n",
       "       'Obesity', 'Extreme Obesity', 'Obesity', 'Extreme Obesity',\n",
       "       'Extremely Weak', 'Extreme Obesity', 'Weak', 'Extreme Obesity',\n",
       "       'Normal', 'Extremely Weak', 'Overweight', 'Extreme Obesity',\n",
       "       'Overweight', 'Extreme Obesity', 'Overweight', 'Extreme Obesity',\n",
       "       'Extreme Obesity', 'Extreme Obesity', 'Extreme Obesity', 'Obesity',\n",
       "       'Extreme Obesity', 'Overweight', 'Obesity', 'Normal',\n",
       "       'Extreme Obesity', 'Extreme Obesity', 'Obesity', 'Extreme Obesity',\n",
       "       'Extreme Obesity', 'Obesity', 'Extreme Obesity', 'Normal',\n",
       "       'Obesity', 'Obesity', 'Extreme Obesity', 'Obesity', 'Obesity',\n",
       "       'Overweight', 'Extreme Obesity', 'Extreme Obesity',\n",
       "       'Extreme Obesity', 'Obesity', 'Overweight', 'Obesity', 'Obesity',\n",
       "       'Extreme Obesity', 'Extreme Obesity', 'Extreme Obesity', 'Normal',\n",
       "       'Normal', 'Overweight', 'Obesity', 'Extreme Obesity',\n",
       "       'Extreme Obesity', 'Extreme Obesity', 'Obesity', 'Overweight',\n",
       "       'Weak', 'Overweight', 'Extreme Obesity', 'Normal', 'Obesity',\n",
       "       'Obesity', 'Obesity', 'Obesity', 'Extreme Obesity',\n",
       "       'Extreme Obesity', 'Extreme Obesity', 'Overweight', 'Obesity',\n",
       "       'Extreme Obesity', 'Normal', 'Overweight', 'Obesity', 'Weak',\n",
       "       'Weak', 'Normal', 'Obesity', 'Extreme Obesity'], dtype=object)"
      ]
     },
     "execution_count": 31,
     "metadata": {},
     "output_type": "execute_result"
    }
   ],
   "source": [
    "bmi_predict1 = bmi_model1.predict(x1_test) #5명의 샘플 데이터를 예측\n",
    "bmi_predict1"
   ]
  },
  {
   "cell_type": "code",
   "execution_count": 32,
   "id": "9d8a4db4",
   "metadata": {},
   "outputs": [
    {
     "data": {
      "text/plain": [
       "0.87"
      ]
     },
     "execution_count": 32,
     "metadata": {},
     "output_type": "execute_result"
    }
   ],
   "source": [
    "score1 = accuracy_score(y1_test, bmi_predict1)\n",
    "score1"
   ]
  },
  {
   "cell_type": "code",
   "execution_count": null,
   "id": "177d14ab",
   "metadata": {},
   "outputs": [],
   "source": []
  },
  {
   "cell_type": "code",
   "execution_count": null,
   "id": "c2808a94",
   "metadata": {},
   "outputs": [],
   "source": []
  }
 ],
 "metadata": {
  "kernelspec": {
   "display_name": "Python 3",
   "language": "python",
   "name": "python3"
  },
  "language_info": {
   "codemirror_mode": {
    "name": "ipython",
    "version": 3
   },
   "file_extension": ".py",
   "mimetype": "text/x-python",
   "name": "python",
   "nbconvert_exporter": "python",
   "pygments_lexer": "ipython3",
   "version": "3.8.8"
  }
 },
 "nbformat": 4,
 "nbformat_minor": 5
}
