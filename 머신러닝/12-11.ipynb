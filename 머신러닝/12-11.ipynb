{
 "cells": [
  {
   "cell_type": "markdown",
   "id": "feb71b5e",
   "metadata": {},
   "source": [
    "1. KNN 알고리즘\n",
    "- 유클리디언 거리 측정 (유사도)\n",
    "- 데이터 스케일\n",
    "    - 평균,표준편차\n",
    "    - 사분위수\n",
    "    - 최대값,최소값\n",
    "    - 벡터\n",
    "2. DecisionTree 알고리즘\n",
    "- 지니불순도, 엔트로피\n",
    "- 스케일에 영향x\n",
    "- 특성중요도를 확인해서 특성선택에 활용\n",
    "\n",
    "3. 선형모델(회귀)\n",
    "- MSE(평균제곱오차)\n",
    "- 수학적해석, 경사하강법\n",
    "\n",
    "4. 선형모델(분류)\n",
    "- LogisticRegression\n",
    "- 최종 분류 결과를 예측하기 이전에 확률 값이 계산된다.\n",
    "\n"
   ]
  },
  {
   "cell_type": "code",
   "execution_count": null,
   "id": "dc817a0a",
   "metadata": {},
   "outputs": [],
   "source": []
  }
 ],
 "metadata": {
  "kernelspec": {
   "display_name": "Python 3",
   "language": "python",
   "name": "python3"
  },
  "language_info": {
   "codemirror_mode": {
    "name": "ipython",
    "version": 3
   },
   "file_extension": ".py",
   "mimetype": "text/x-python",
   "name": "python",
   "nbconvert_exporter": "python",
   "pygments_lexer": "ipython3",
   "version": "3.8.8"
  }
 },
 "nbformat": 4,
 "nbformat_minor": 5
}
